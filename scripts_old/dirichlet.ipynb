{
 "cells": [
  {
   "cell_type": "markdown",
   "id": "57e099c2",
   "metadata": {},
   "source": [
    "### Effect of Dirichlet prior\n",
    "\n",
    "$\n",
    "ds^2 = \\sum_i |w_i - w_{0i}|^2\n",
    "$"
   ]
  },
  {
   "cell_type": "code",
   "execution_count": 1,
   "id": "cefe2b65",
   "metadata": {},
   "outputs": [],
   "source": [
    "import numpy as np"
   ]
  },
  {
   "cell_type": "code",
   "execution_count": 11,
   "id": "aa6a4256",
   "metadata": {},
   "outputs": [
    {
     "name": "stdout",
     "output_type": "stream",
     "text": [
      "[0.03209918 0.26405378 0.18480439 0.38824536 0.13079728] [0.4244576  0.12615727 0.05527073 0.17667569 0.21743871]\n"
     ]
    }
   ],
   "source": [
    "m = 5\n",
    "\n",
    "# w0 = np.ones(m)/m\n",
    "w0 = np.random.dirichlet(np.ones(m), 1)[0]\n",
    "w1 = np.random.dirichlet(np.ones(m), 1)[0]\n",
    "\n",
    "print(w0, w1)"
   ]
  },
  {
   "cell_type": "code",
   "execution_count": 12,
   "id": "69750e05",
   "metadata": {},
   "outputs": [
    {
     "name": "stdout",
     "output_type": "stream",
     "text": [
      "0.4919430905040763\n"
     ]
    }
   ],
   "source": [
    "diff = np.linalg.norm(w0 - w1)\n",
    "\n",
    "print(diff)"
   ]
  },
  {
   "cell_type": "code",
   "execution_count": 13,
   "id": "8dbf1826",
   "metadata": {},
   "outputs": [],
   "source": [
    "def double(w):\n",
    "    new_w = []\n",
    "    for i in range(len(w)):\n",
    "        new_w.extend([w[i]/2]*2)\n",
    "    return np.array(new_w)"
   ]
  },
  {
   "cell_type": "code",
   "execution_count": 14,
   "id": "f688b5bb",
   "metadata": {},
   "outputs": [
    {
     "name": "stdout",
     "output_type": "stream",
     "text": [
      "1.4142135623730951\n"
     ]
    }
   ],
   "source": [
    "new_w0 = double(w0)\n",
    "new_w1 = double(w1)\n",
    "\n",
    "new_diff = np.linalg.norm(new_w0 - new_w1)\n",
    "\n",
    "new_diff\n",
    "\n",
    "print(diff/new_diff)"
   ]
  },
  {
   "cell_type": "code",
   "execution_count": 15,
   "id": "3d20b11d",
   "metadata": {},
   "outputs": [
    {
     "name": "stdout",
     "output_type": "stream",
     "text": [
      "1.4142135623730951\n"
     ]
    }
   ],
   "source": [
    "print(np.sqrt(2))"
   ]
  },
  {
   "cell_type": "markdown",
   "id": "209cf481",
   "metadata": {},
   "source": [
    "doubling the n. of frames, it scales as $\\sqrt 2$"
   ]
  },
  {
   "cell_type": "markdown",
   "id": "1efc6504",
   "metadata": {},
   "source": [
    "- now, suppose that the observable is 1 for the first half of the frames and 0 for the second half; does the standard deviation change with coarse-graining?"
   ]
  },
  {
   "cell_type": "code",
   "execution_count": null,
   "id": "7cc896ca",
   "metadata": {},
   "outputs": [],
   "source": [
    "g = [0, 0, 1, 1, 1]\n",
    "\n"
   ]
  }
 ],
 "metadata": {
  "kernelspec": {
   "display_name": "Python 3",
   "language": "python",
   "name": "python3"
  },
  "language_info": {
   "codemirror_mode": {
    "name": "ipython",
    "version": 3
   },
   "file_extension": ".py",
   "mimetype": "text/x-python",
   "name": "python",
   "nbconvert_exporter": "python",
   "pygments_lexer": "ipython3",
   "version": "3.9.13"
  }
 },
 "nbformat": 4,
 "nbformat_minor": 5
}
